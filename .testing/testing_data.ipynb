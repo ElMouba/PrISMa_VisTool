{
 "cells": [
  {
   "cell_type": "code",
   "execution_count": 9,
   "metadata": {},
   "outputs": [],
   "source": [
    "import requests\n",
    "\n",
    "import json"
   ]
  },
  {
   "cell_type": "code",
   "execution_count": 10,
   "metadata": {},
   "outputs": [],
   "source": [
    "import json\n",
    "sample_dict ={ \n",
    "  \"key1\": 1, \n",
    "  \"key2\": 2, \n",
    "  \"key3\": 3\n",
    "} \n",
    "with open(\"sample_file.json\", \"w\") as file:\n",
    "    json.dump(sample_dict, file)"
   ]
  },
  {
   "cell_type": "code",
   "execution_count": 22,
   "metadata": {},
   "outputs": [],
   "source": [
    "test_dic = {'data':\n",
    "            {'name':'Joren',\n",
    "            'cif':'cif'}}\n",
    "\n",
    "with open(\"sample_file.json\", \"w\") as file:\n",
    "    json.dump(test_dic, file)\n",
    "\n"
   ]
  },
  {
   "cell_type": "code",
   "execution_count": 23,
   "metadata": {},
   "outputs": [
    {
     "name": "stdout",
     "output_type": "stream",
     "text": [
      "{\"saved\":true}\n"
     ]
    }
   ],
   "source": [
    "import requests\n",
    "\n",
    "url = \"http://localhost:8070/savedata/\"\n",
    "\n",
    "res = requests.post(url, json = test_dic)\n",
    "print(res.text)"
   ]
  },
  {
   "cell_type": "code",
   "execution_count": null,
   "metadata": {},
   "outputs": [
    {
     "name": "stdout",
     "output_type": "stream",
     "text": [
      "\n",
      "    <!DOCTYPE html>\n",
      "    <html>\n",
      "    <head>\n",
      "    <link type=\"text/css\" rel=\"stylesheet\" href=\"https://cdn.jsdelivr.net/npm/swagger-ui-dist@5/swagger-ui.css\">\n",
      "    <link rel=\"shortcut icon\" href=\"https://fastapi.tiangolo.com/img/favicon.png\">\n",
      "    <title>FastAPI - Swagger UI</title>\n",
      "    </head>\n",
      "    <body>\n",
      "    <div id=\"swagger-ui\">\n",
      "    </div>\n",
      "    <script src=\"https://cdn.jsdelivr.net/npm/swagger-ui-dist@5/swagger-ui-bundle.js\"></script>\n",
      "    <!-- `SwaggerUIBundle` is now available on the page -->\n",
      "    <script>\n",
      "    const ui = SwaggerUIBundle({\n",
      "        url: '/openapi.json',\n",
      "    \"dom_id\": \"#swagger-ui\",\n",
      "\"layout\": \"BaseLayout\",\n",
      "\"deepLinking\": true,\n",
      "\"showExtensions\": true,\n",
      "\"showCommonExtensions\": true,\n",
      "oauth2RedirectUrl: window.location.origin + '/docs/oauth2-redirect',\n",
      "    presets: [\n",
      "        SwaggerUIBundle.presets.apis,\n",
      "        SwaggerUIBundle.SwaggerUIStandalonePreset\n",
      "        ],\n",
      "    })\n",
      "    </script>\n",
      "    </body>\n",
      "    </html>\n",
      "    \n"
     ]
    }
   ],
   "source": [
    "\n",
    "url = \"http://localhost:8070/docs/\"\n",
    "\n",
    "res = requests.get(url)\n",
    "print(res.text)"
   ]
  }
 ],
 "metadata": {
  "kernelspec": {
   "display_name": "prisma",
   "language": "python",
   "name": "python3"
  },
  "language_info": {
   "codemirror_mode": {
    "name": "ipython",
    "version": 3
   },
   "file_extension": ".py",
   "mimetype": "text/x-python",
   "name": "python",
   "nbconvert_exporter": "python",
   "pygments_lexer": "ipython3",
   "version": "3.10.12"
  },
  "orig_nbformat": 4
 },
 "nbformat": 4,
 "nbformat_minor": 2
}
