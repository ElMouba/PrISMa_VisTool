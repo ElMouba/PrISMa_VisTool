{
 "cells": [
  {
   "cell_type": "code",
   "execution_count": 1,
   "metadata": {},
   "outputs": [],
   "source": [
    "import pandas as pd"
   ]
  },
  {
   "cell_type": "code",
   "execution_count": 5,
   "metadata": {},
   "outputs": [
    {
     "name": "stdout",
     "output_type": "stream",
     "text": [
      "6001\n",
      "Index(['Unnamed: 0', 'phimage_C-H-N-O_0_0_0', 'phimage_C-H-N-O_0_0_1',\n",
      "       'phimage_C-H-N-O_0_0_2', 'phimage_C-H-N-O_0_0_3',\n",
      "       'phimage_C-H-N-O_0_0_4', 'phimage_C-H-N-O_0_0_5',\n",
      "       'phimage_C-H-N-O_0_0_6', 'phimage_C-H-N-O_0_0_7',\n",
      "       'phimage_C-H-N-O_0_0_8',\n",
      "       ...\n",
      "       'phimage_all_2_19_10', 'phimage_all_2_19_11', 'phimage_all_2_19_12',\n",
      "       'phimage_all_2_19_13', 'phimage_all_2_19_14', 'phimage_all_2_19_15',\n",
      "       'phimage_all_2_19_16', 'phimage_all_2_19_17', 'phimage_all_2_19_18',\n",
      "       'phimage_all_2_19_19'],\n",
      "      dtype='object', length=6001)\n"
     ]
    }
   ],
   "source": [
    "csv = '/home/jorenvanherck/Documents/Prisma/model_microservices/adosorbaphoreModels/.testing/pdf_format/HKUST1_exp_clean_PHImage.csv'\n",
    "df = pd.read_csv(csv)\n",
    "print(len(df.columns))\n",
    "print(df.columns)"
   ]
  }
 ],
 "metadata": {
  "kernelspec": {
   "display_name": "pdf",
   "language": "python",
   "name": "python3"
  },
  "language_info": {
   "codemirror_mode": {
    "name": "ipython",
    "version": 3
   },
   "file_extension": ".py",
   "mimetype": "text/x-python",
   "name": "python",
   "nbconvert_exporter": "python",
   "pygments_lexer": "ipython3",
   "version": "3.11.3"
  },
  "orig_nbformat": 4
 },
 "nbformat": 4,
 "nbformat_minor": 2
}
