{
 "cells": [
  {
   "cell_type": "code",
   "execution_count": 3,
   "metadata": {},
   "outputs": [],
   "source": [
    "from config_upl import *\n",
    "from email.mime.text import MIMEText\n",
    "from email.mime.multipart import MIMEMultipart\n",
    "from os.path import dirname, join\n",
    "import smtplib\n",
    "import base64\n",
    "import time"
   ]
  },
  {
   "cell_type": "code",
   "execution_count": 15,
   "metadata": {},
   "outputs": [],
   "source": [
    "def sendConfirmationEmail(form:dict, admins = []):\n",
    "    '''Send confirmation email upon clicking 'submit' button\n",
    "        Params:\n",
    "        --------\n",
    "        form: dict\n",
    "            completed form on webpage. As extracted by extracting_form()\n",
    "        admins: list\n",
    "            list of additional email adress to send the confirmation to\n",
    "        \n",
    "        Returns:\n",
    "        ---------\n",
    "        bool: whether or not the emails were sent\n",
    "\n",
    "        '''\n",
    "    # Define the multipart message\n",
    "    msg = MIMEMultipart()\n",
    "    msg['From'] = 'Prisma'\n",
    "    msg['Subject'] = 'Confirmation'\n",
    "\n",
    "    toaddrs = ['vanherck.joren@gmail.com']\n",
    "\n",
    "\n",
    "    text = MIMEText('''\n",
    "    Dear,\n",
    "\n",
    "    Thank you for submitting a structure  We will get back to you once the calculations are done.\n",
    "\n",
    "    Kind regards,\n",
    "    The PRISMA team\n",
    "    '''\n",
    "    )\n",
    "    \n",
    "    msg.attach(text)\n",
    "\n",
    "    # Define account and sending details\n",
    "    username = SENDER_EMAIL\n",
    "    password = SENDER_PASSWORD\n",
    "    server = smtplib.SMTP('smtp.gmail.com:587')\n",
    "    server.ehlo()\n",
    "    server.starttls()\n",
    "    server.login(username,password)\n",
    "\n",
    "\n",
    "\n",
    "\n",
    "    for receiver in toaddrs:\n",
    "        print('Sending email to {}...'.format(receiver))\n",
    "        try:\n",
    "            msg['To'] = receiver\n",
    "            server.sendmail('PRISMA', receiver, msg.as_string())\n",
    "        except:\n",
    "            print('Error: Could not send an email to {}'.format(receiver))\n",
    "        time.sleep(1)\n",
    "    server.quit()\n",
    "    return True"
   ]
  },
  {
   "cell_type": "code",
   "execution_count": 17,
   "metadata": {},
   "outputs": [
    {
     "name": "stdout",
     "output_type": "stream",
     "text": [
      "Sending email to vanherck.joren@gmail.com...\n"
     ]
    },
    {
     "data": {
      "text/plain": [
       "True"
      ]
     },
     "execution_count": 17,
     "metadata": {},
     "output_type": "execute_result"
    }
   ],
   "source": [
    "sendConfirmationEmail('test')"
   ]
  }
 ],
 "metadata": {
  "kernelspec": {
   "display_name": "mofdscribe",
   "language": "python",
   "name": "python3"
  },
  "language_info": {
   "codemirror_mode": {
    "name": "ipython",
    "version": 3
   },
   "file_extension": ".py",
   "mimetype": "text/x-python",
   "name": "python",
   "nbconvert_exporter": "python",
   "pygments_lexer": "ipython3",
   "version": "3.11.3"
  },
  "orig_nbformat": 4
 },
 "nbformat": 4,
 "nbformat_minor": 2
}
