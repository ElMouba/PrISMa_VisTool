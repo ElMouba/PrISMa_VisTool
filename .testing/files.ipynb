{
 "cells": [
  {
   "cell_type": "code",
   "execution_count": 24,
   "metadata": {},
   "outputs": [],
   "source": [
    "import os\n",
    "import time\n",
    "import json"
   ]
  },
  {
   "cell_type": "code",
   "execution_count": 25,
   "metadata": {},
   "outputs": [
    {
     "name": "stdout",
     "output_type": "stream",
     "text": [
      "{'test.json': 'Wed Sep  6 16:29:24 2023'}\n",
      "[('test.json', 'Wed Sep  6 16:29:24 2023')]\n"
     ]
    }
   ],
   "source": [
    "folder = '../shared_folder/'\n",
    "if not os.path.exists(folder):\n",
    "    raise NotADirectoryError\n",
    "\n",
    "files = {file:time.ctime(os.path.getctime(os.path.join(folder, file))) for file in os.listdir(folder)}\n",
    "print(files)\n",
    "\n",
    "files = sorted(files.items(), key =lambda x: x[1])\n",
    "print(files)"
   ]
  },
  {
   "cell_type": "code",
   "execution_count": 32,
   "metadata": {},
   "outputs": [
    {
     "name": "stdout",
     "output_type": "stream",
     "text": [
      "['../shared_folder/test.json', '../shared_folder/bla.json', '../shared_folder/test copy.json']\n"
     ]
    }
   ],
   "source": [
    "for (_,_, files) in os.walk(folder, topdown=True):\n",
    "    files = files\n",
    "\n",
    "files = [os.path.join(folder, i) for i in files]\n",
    "time_sorted_list = sorted(files, key=os.path.getmtime)\n",
    "print(time_sorted_list)"
   ]
  },
  {
   "cell_type": "code",
   "execution_count": 1,
   "metadata": {},
   "outputs": [
    {
     "name": "stdout",
     "output_type": "stream",
     "text": [
      "{\n",
      "  \"model_outputs\": [\n",
      "    {\n",
      "      \"model_name\": \"nCAC_dummy\",\n",
      "      \"model_input_type\": \"PHImage\",\n",
      "      \"prediction\": 0,\n",
      "      \"prediction_explanation\": \"whether a material has a lower nCAC than the MEA-based benchmark\"\n",
      "    },\n",
      "    {\n",
      "      \"model_name\": \"WaterResistance_dummy\",\n",
      "      \"model_input_type\": \"PHImage\",\n",
      "      \"prediction\": 1,\n",
      "      \"prediction_explanation\": \"whether a material can maintain its CO2 adsorption capacity in wet flue gasses\"\n",
      "    }\n",
      "  ]\n",
      "}\n"
     ]
    }
   ],
   "source": [
    "import json\n",
    "\n",
    "data = {\n",
    "    \"model_outputs\": [\n",
    "        {\n",
    "            \"model_name\": \"nCAC_dummy\",\n",
    "            \"model_input_type\": \"PHImage\",\n",
    "            \"prediction\": 0,\n",
    "            \"prediction_explanation\": \"whether a material has a lower nCAC than the MEA-based benchmark\"\n",
    "        },\n",
    "        {\n",
    "            \"model_name\": \"WaterResistance_dummy\",\n",
    "            \"model_input_type\": \"PHImage\",\n",
    "            \"prediction\": 1,\n",
    "            \"prediction_explanation\": \"whether a material can maintain its CO2 adsorption capacity in wet flue gasses\"\n",
    "        }\n",
    "    ]\n",
    "}\n",
    "\n",
    "# Convert the Python dictionary to a JSON string\n",
    "json_string = json.dumps(data, indent=2)\n",
    "\n",
    "# Print or use the JSON string as needed\n",
    "print(json_string)\n"
   ]
  },
  {
   "cell_type": "code",
   "execution_count": 2,
   "metadata": {},
   "outputs": [
    {
     "ename": "ModuleNotFoundError",
     "evalue": "No module named 'django'",
     "output_type": "error",
     "traceback": [
      "\u001b[0;31m---------------------------------------------------------------------------\u001b[0m",
      "\u001b[0;31mModuleNotFoundError\u001b[0m                       Traceback (most recent call last)",
      "Cell \u001b[0;32mIn[2], line 1\u001b[0m\n\u001b[0;32m----> 1\u001b[0m \u001b[39mimport\u001b[39;00m \u001b[39msweetify\u001b[39;00m\n\u001b[1;32m      3\u001b[0m \u001b[39m# Base method with no type specified\u001b[39;00m\n\u001b[1;32m      4\u001b[0m sweetify\u001b[39m.\u001b[39msweetalert(\u001b[39m200\u001b[39m, \u001b[39m'\u001b[39m\u001b[39mWestworld is awesome\u001b[39m\u001b[39m'\u001b[39m, text\u001b[39m=\u001b[39m\u001b[39m'\u001b[39m\u001b[39mReally... if you have the chance - watch it!\u001b[39m\u001b[39m'\u001b[39m, persistent\u001b[39m=\u001b[39m\u001b[39m'\u001b[39m\u001b[39mI agree!\u001b[39m\u001b[39m'\u001b[39m)\n",
      "File \u001b[0;32m~/.local/lib/python3.10/site-packages/sweetify/__init__.py:1\u001b[0m\n\u001b[0;32m----> 1\u001b[0m \u001b[39mfrom\u001b[39;00m \u001b[39m.\u001b[39;00m\u001b[39msweetify\u001b[39;00m \u001b[39mimport\u001b[39;00m \u001b[39m*\u001b[39m\n",
      "File \u001b[0;32m~/.local/lib/python3.10/site-packages/sweetify/sweetify.py:3\u001b[0m\n\u001b[1;32m      1\u001b[0m \u001b[39mimport\u001b[39;00m \u001b[39mjson\u001b[39;00m\n\u001b[0;32m----> 3\u001b[0m \u001b[39mfrom\u001b[39;00m \u001b[39mdjango\u001b[39;00m\u001b[39m.\u001b[39;00m\u001b[39mconf\u001b[39;00m \u001b[39mimport\u001b[39;00m settings\n\u001b[1;32m      5\u001b[0m \u001b[39mfrom\u001b[39;00m \u001b[39m.\u001b[39;00m\u001b[39mencoder\u001b[39;00m \u001b[39mimport\u001b[39;00m LazyEncoder\n\u001b[1;32m      7\u001b[0m DEFAULT_OPTS \u001b[39m=\u001b[39m {\n\u001b[1;32m      8\u001b[0m     \u001b[39m\"\u001b[39m\u001b[39mshowConfirmButton\u001b[39m\u001b[39m\"\u001b[39m: \u001b[39mFalse\u001b[39;00m,\n\u001b[1;32m      9\u001b[0m     \u001b[39m\"\u001b[39m\u001b[39mtimer\u001b[39m\u001b[39m\"\u001b[39m: \u001b[39m2500\u001b[39m,\n\u001b[1;32m     10\u001b[0m     \u001b[39m\"\u001b[39m\u001b[39mallowOutsideClick\u001b[39m\u001b[39m\"\u001b[39m: \u001b[39mTrue\u001b[39;00m,\n\u001b[1;32m     11\u001b[0m     \u001b[39m\"\u001b[39m\u001b[39mconfirmButtonText\u001b[39m\u001b[39m\"\u001b[39m: \u001b[39m\"\u001b[39m\u001b[39mOK\u001b[39m\u001b[39m\"\u001b[39m,\n\u001b[1;32m     12\u001b[0m }\n",
      "\u001b[0;31mModuleNotFoundError\u001b[0m: No module named 'django'"
     ]
    }
   ],
   "source": [
    "import sweetify\n",
    "\n",
    "# Base method with no type specified\n",
    "sweetify.sweetalert(200, 'Westworld is awesome', text='Really... if you have the chance - watch it!', persistent='I agree!')\n",
    "\n"
   ]
  }
 ],
 "metadata": {
  "kernelspec": {
   "display_name": "prisma",
   "language": "python",
   "name": "python3"
  },
  "language_info": {
   "codemirror_mode": {
    "name": "ipython",
    "version": 3
   },
   "file_extension": ".py",
   "mimetype": "text/x-python",
   "name": "python",
   "nbconvert_exporter": "python",
   "pygments_lexer": "ipython3",
   "version": "3.10.12"
  },
  "orig_nbformat": 4
 },
 "nbformat": 4,
 "nbformat_minor": 2
}
